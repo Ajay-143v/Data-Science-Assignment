{
 "cells": [
  {
   "cell_type": "markdown",
   "id": "17758976-02ae-4aee-84f9-43d2e0bcc445",
   "metadata": {},
   "source": [
    "# Data Science Tools and Ecosystem"
   ]
  },
  {
   "cell_type": "markdown",
   "id": "8a6ac6cb-2ecb-4dbf-9dd3-e407e518d935",
   "metadata": {},
   "source": [
    "In this notebook, Data Science Tools and Ecosystem are summarized"
   ]
  },
  {
   "cell_type": "markdown",
   "id": "5881f3a5-26e2-4b7e-ad65-2523dba82690",
   "metadata": {},
   "source": [
    "#### Objectives:\n",
    "-  Popular languages used by Data Scientists.\n",
    "-  Common libraries used by Data Scientists.\n",
    "-  Data Science tools.\n",
    "-  How to perform arithmetic expressions."
   ]
  },
  {
   "cell_type": "markdown",
   "id": "8a7c364e-6838-43a2-87a3-5af7d064a595",
   "metadata": {},
   "source": [
    "Some of the popular languages that Data Scientists use are:\n",
    "1. Python\n",
    "2. R\n",
    "3. Julia\n",
    "4. Scala"
   ]
  },
  {
   "cell_type": "markdown",
   "id": "70c4763e-054d-4840-a566-96c6a1212e8a",
   "metadata": {},
   "source": [
    "Some of the commonly used libraries used by Data Scientists include:\n",
    "1. matplotlib\n",
    "2. pandas\n",
    "3. Numpy\n",
    "4. tensorflow"
   ]
  },
  {
   "cell_type": "markdown",
   "id": "73d63f6c-2fc1-4e40-907f-ab7ecb2a5b32",
   "metadata": {},
   "source": [
    "Data Sience tools:\n",
    "1. Jupyter labs\n",
    "2. Github\n",
    "3. VS Code\n",
    "4. Anaconda"
   ]
  },
  {
   "cell_type": "markdown",
   "id": "1ae89f8b-8dca-4d41-8bce-bdf187126657",
   "metadata": {},
   "source": [
    "### Below are a few examples of evaluating arithmetic expressions in python"
   ]
  },
  {
   "cell_type": "code",
   "execution_count": 1,
   "id": "d6c9a995-8e9d-4521-8b82-62643e18ef72",
   "metadata": {},
   "outputs": [
    {
     "name": "stdout",
     "output_type": "stream",
     "text": [
      "17\n"
     ]
    }
   ],
   "source": [
    "# this is a simple arithmetic expression to multiply then add integers  \n",
    "print((3*4)+5)"
   ]
  },
  {
   "cell_type": "code",
   "execution_count": null,
   "id": "5cc6ede4-dfb6-4932-a870-c7572e5a9f2e",
   "metadata": {},
   "outputs": [],
   "source": [
    "a=200\n",
    "# this will converst 200 minutes to hours by dividing by 60\n",
    "hours=a/60\n",
    "print(hours)"
   ]
  }
 ],
 "metadata": {
  "kernelspec": {
   "display_name": "Python 3 (ipykernel)",
   "language": "python",
   "name": "python3"
  },
  "language_info": {
   "codemirror_mode": {
    "name": "ipython",
    "version": 3
   },
   "file_extension": ".py",
   "mimetype": "text/x-python",
   "name": "python",
   "nbconvert_exporter": "python",
   "pygments_lexer": "ipython3",
   "version": "3.12.5"
  }
 },
 "nbformat": 4,
 "nbformat_minor": 5
}
